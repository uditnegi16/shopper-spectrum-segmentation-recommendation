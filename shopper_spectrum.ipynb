{
  "nbformat": 4,
  "nbformat_minor": 0,
  "metadata": {
    "colab": {
      "provenance": [],
      "gpuType": "T4"
    },
    "kernelspec": {
      "name": "python3",
      "display_name": "Python 3"
    },
    "language_info": {
      "name": "python"
    },
    "accelerator": "GPU"
  },
  "cells": [
    {
      "cell_type": "code",
      "execution_count": 1,
      "metadata": {
        "id": "JQhPUQwrSuWd"
      },
      "outputs": [],
      "source": [
        "import pandas as pd\n",
        "import numpy as np\n",
        "import matplotlib.pyplot as plt\n",
        "import seaborn as sns\n",
        "from sklearn.preprocessing import StandardScaler\n",
        "from sklearn.cluster import KMeans\n",
        "from sklearn.metrics import silhouette_score\n",
        "import pickle\n",
        "import os\n",
        "import torch  # Check for GPU availability\n",
        "from sklearn.metrics.pairwise import cosine_similarity"
      ]
    },
    {
      "cell_type": "code",
      "source": [
        "# Check for GPU (if using PyTorch or compatible libraries later)\n",
        "# =============================\n",
        "device = torch.device(\"cuda\" if torch.cuda.is_available() else \"cpu\")\n",
        "print(f\"Using device: {device}\")"
      ],
      "metadata": {
        "colab": {
          "base_uri": "https://localhost:8080/"
        },
        "id": "QqbFAoy2TEdF",
        "outputId": "897bdf3a-a391-4603-8d75-b9ec597dfcb8"
      },
      "execution_count": 2,
      "outputs": [
        {
          "output_type": "stream",
          "name": "stdout",
          "text": [
            "Using device: cuda\n"
          ]
        }
      ]
    },
    {
      "cell_type": "code",
      "source": [
        "# =============================\n",
        "# Step 1: Load and Explore Data\n",
        "# =============================\n",
        "\n",
        "df = pd.read_csv(\"/content/online_retail.csv\", encoding='ISO-8859-1')\n",
        "\n",
        "# Basic structure\n",
        "print(df.info())\n",
        "print(df.describe())\n",
        "print(df.isnull().sum())\n",
        "\n",
        "# Preview unique countries and missing CustomerID\n",
        "print(\"\\nCountries:\", df['Country'].unique())\n",
        "print(\"\\nMissing Customer IDs:\", df['CustomerID'].isna().sum())\n",
        "\n",
        "# Remove rows with missing CustomerID and cancellations\n",
        "clean_df = df.dropna(subset=['CustomerID'])\n",
        "clean_df = clean_df[~clean_df['InvoiceNo'].astype(str).str.startswith('C')]\n",
        "\n",
        "# Remove negative/zero quantities and prices\n",
        "clean_df = clean_df[(clean_df['Quantity'] > 0) & (clean_df['UnitPrice'] > 0)]\n",
        "\n",
        "# Add TotalPrice column\n",
        "clean_df['TotalPrice'] = clean_df['Quantity'] * clean_df['UnitPrice']\n",
        "clean_df['InvoiceDate'] = pd.to_datetime(clean_df['InvoiceDate'])\n",
        "\n",
        "# Save cleaned version if needed\n",
        "os.makedirs(\"data\", exist_ok=True)\n",
        "clean_df.to_csv(\"/content/cleaned_data.csv\", index=False)"
      ],
      "metadata": {
        "colab": {
          "base_uri": "https://localhost:8080/"
        },
        "id": "J9O4YGOZTEZk",
        "outputId": "963f84b1-ce52-42c4-aabd-4a60dee072c2"
      },
      "execution_count": 4,
      "outputs": [
        {
          "output_type": "stream",
          "name": "stdout",
          "text": [
            "<class 'pandas.core.frame.DataFrame'>\n",
            "RangeIndex: 541909 entries, 0 to 541908\n",
            "Data columns (total 8 columns):\n",
            " #   Column       Non-Null Count   Dtype  \n",
            "---  ------       --------------   -----  \n",
            " 0   InvoiceNo    541909 non-null  object \n",
            " 1   StockCode    541909 non-null  object \n",
            " 2   Description  540455 non-null  object \n",
            " 3   Quantity     541909 non-null  int64  \n",
            " 4   InvoiceDate  541909 non-null  object \n",
            " 5   UnitPrice    541909 non-null  float64\n",
            " 6   CustomerID   406829 non-null  float64\n",
            " 7   Country      541909 non-null  object \n",
            "dtypes: float64(2), int64(1), object(5)\n",
            "memory usage: 33.1+ MB\n",
            "None\n",
            "            Quantity      UnitPrice     CustomerID\n",
            "count  541909.000000  541909.000000  406829.000000\n",
            "mean        9.552250       4.611114   15287.690570\n",
            "std       218.081158      96.759853    1713.600303\n",
            "min    -80995.000000  -11062.060000   12346.000000\n",
            "25%         1.000000       1.250000   13953.000000\n",
            "50%         3.000000       2.080000   15152.000000\n",
            "75%        10.000000       4.130000   16791.000000\n",
            "max     80995.000000   38970.000000   18287.000000\n",
            "InvoiceNo           0\n",
            "StockCode           0\n",
            "Description      1454\n",
            "Quantity            0\n",
            "InvoiceDate         0\n",
            "UnitPrice           0\n",
            "CustomerID     135080\n",
            "Country             0\n",
            "dtype: int64\n",
            "\n",
            "Countries: ['United Kingdom' 'France' 'Australia' 'Netherlands' 'Germany' 'Norway'\n",
            " 'EIRE' 'Switzerland' 'Spain' 'Poland' 'Portugal' 'Italy' 'Belgium'\n",
            " 'Lithuania' 'Japan' 'Iceland' 'Channel Islands' 'Denmark' 'Cyprus'\n",
            " 'Sweden' 'Austria' 'Israel' 'Finland' 'Bahrain' 'Greece' 'Hong Kong'\n",
            " 'Singapore' 'Lebanon' 'United Arab Emirates' 'Saudi Arabia'\n",
            " 'Czech Republic' 'Canada' 'Unspecified' 'Brazil' 'USA'\n",
            " 'European Community' 'Malta' 'RSA']\n",
            "\n",
            "Missing Customer IDs: 135080\n"
          ]
        }
      ]
    },
    {
      "cell_type": "markdown",
      "source": [
        "data is cleaned and new data csv is checked here"
      ],
      "metadata": {
        "id": "UCWibAdeT6F4"
      }
    },
    {
      "cell_type": "code",
      "source": [
        "df = pd.read_csv(\"/content/cleaned_data.csv\", encoding='ISO-8859-1')\n",
        "\n",
        "# Basic structure\n",
        "print(df.info())\n",
        "print(df.describe())\n",
        "print(df.isnull().sum())"
      ],
      "metadata": {
        "colab": {
          "base_uri": "https://localhost:8080/"
        },
        "id": "oJUb_DA3TETR",
        "outputId": "c418505c-eb66-43a4-975f-f1f3e9749673"
      },
      "execution_count": 7,
      "outputs": [
        {
          "output_type": "stream",
          "name": "stdout",
          "text": [
            "<class 'pandas.core.frame.DataFrame'>\n",
            "RangeIndex: 397884 entries, 0 to 397883\n",
            "Data columns (total 9 columns):\n",
            " #   Column       Non-Null Count   Dtype  \n",
            "---  ------       --------------   -----  \n",
            " 0   InvoiceNo    397884 non-null  int64  \n",
            " 1   StockCode    397884 non-null  object \n",
            " 2   Description  397884 non-null  object \n",
            " 3   Quantity     397884 non-null  int64  \n",
            " 4   InvoiceDate  397884 non-null  object \n",
            " 5   UnitPrice    397884 non-null  float64\n",
            " 6   CustomerID   397884 non-null  float64\n",
            " 7   Country      397884 non-null  object \n",
            " 8   TotalPrice   397884 non-null  float64\n",
            "dtypes: float64(3), int64(2), object(4)\n",
            "memory usage: 27.3+ MB\n",
            "None\n",
            "           InvoiceNo       Quantity      UnitPrice     CustomerID  \\\n",
            "count  397884.000000  397884.000000  397884.000000  397884.000000   \n",
            "mean   560616.934451      12.988238       3.116488   15294.423453   \n",
            "std     13106.117773     179.331775      22.097877    1713.141560   \n",
            "min    536365.000000       1.000000       0.001000   12346.000000   \n",
            "25%    549234.000000       2.000000       1.250000   13969.000000   \n",
            "50%    561893.000000       6.000000       1.950000   15159.000000   \n",
            "75%    572090.000000      12.000000       3.750000   16795.000000   \n",
            "max    581587.000000   80995.000000    8142.750000   18287.000000   \n",
            "\n",
            "          TotalPrice  \n",
            "count  397884.000000  \n",
            "mean       22.397000  \n",
            "std       309.071041  \n",
            "min         0.001000  \n",
            "25%         4.680000  \n",
            "50%        11.800000  \n",
            "75%        19.800000  \n",
            "max    168469.600000  \n",
            "InvoiceNo      0\n",
            "StockCode      0\n",
            "Description    0\n",
            "Quantity       0\n",
            "InvoiceDate    0\n",
            "UnitPrice      0\n",
            "CustomerID     0\n",
            "Country        0\n",
            "TotalPrice     0\n",
            "dtype: int64\n"
          ]
        }
      ]
    },
    {
      "cell_type": "code",
      "source": [
        "# ============================\n",
        "# Step 2: Exploratory Analysis\n",
        "# ============================\n",
        "\n",
        "# Top selling products\n",
        "top_products = clean_df.groupby('Description')['Quantity'].sum().sort_values(ascending=False).head(10)\n",
        "print(\"\\nTop Products:\\n\", top_products)\n",
        "\n",
        "# Transactions by country\n",
        "tx_by_country = clean_df.groupby('Country')['InvoiceNo'].nunique().sort_values(ascending=False)\n",
        "print(\"\\nTransactions by Country:\\n\", tx_by_country.head(10))\n",
        "\n",
        "# Time trend of purchases\n",
        "monthly_sales = clean_df.set_index('InvoiceDate')['TotalPrice'].resample('M').sum()\n",
        "plt.figure(figsize=(10, 4))\n",
        "monthly_sales.plot(title='Monthly Sales Trend')\n",
        "plt.xlabel('Month')\n",
        "plt.ylabel('Revenue')\n",
        "plt.tight_layout()\n",
        "plt.savefig(\"/content/data/chartsmonthly_sales.png\")\n",
        "plt.close()\n"
      ],
      "metadata": {
        "colab": {
          "base_uri": "https://localhost:8080/"
        },
        "id": "ZGe4_9w-TERI",
        "outputId": "a285a9e3-c69f-4a6c-b7e0-0e4903ac3ed8"
      },
      "execution_count": 11,
      "outputs": [
        {
          "output_type": "stream",
          "name": "stdout",
          "text": [
            "\n",
            "Top Products:\n",
            " Description\n",
            "PAPER CRAFT , LITTLE BIRDIE           80995\n",
            "MEDIUM CERAMIC TOP STORAGE JAR        77916\n",
            "WORLD WAR 2 GLIDERS ASSTD DESIGNS     54415\n",
            "JUMBO BAG RED RETROSPOT               46181\n",
            "WHITE HANGING HEART T-LIGHT HOLDER    36725\n",
            "ASSORTED COLOUR BIRD ORNAMENT         35362\n",
            "PACK OF 72 RETROSPOT CAKE CASES       33693\n",
            "POPCORN HOLDER                        30931\n",
            "RABBIT NIGHT LIGHT                    27202\n",
            "MINI PAINT SET VINTAGE                26076\n",
            "Name: Quantity, dtype: int64\n",
            "\n",
            "Transactions by Country:\n",
            " Country\n",
            "United Kingdom    16646\n",
            "Germany             457\n",
            "France              389\n",
            "EIRE                260\n",
            "Belgium              98\n",
            "Netherlands          94\n",
            "Spain                90\n",
            "Portugal             57\n",
            "Australia            57\n",
            "Switzerland          51\n",
            "Name: InvoiceNo, dtype: int64\n"
          ]
        },
        {
          "output_type": "stream",
          "name": "stderr",
          "text": [
            "/tmp/ipython-input-3143276423.py:14: FutureWarning: 'M' is deprecated and will be removed in a future version, please use 'ME' instead.\n",
            "  monthly_sales = clean_df.set_index('InvoiceDate')['TotalPrice'].resample('M').sum()\n"
          ]
        }
      ]
    },
    {
      "cell_type": "code",
      "source": [
        "# =============================\n",
        "# Step 3: RFM Feature Creation\n",
        "# =============================\n",
        "\n",
        "snapshot_date = clean_df['InvoiceDate'].max() + pd.Timedelta(days=1)\n",
        "rfm = clean_df.groupby('CustomerID').agg({\n",
        "    'InvoiceDate': lambda x: (snapshot_date - x.max()).days,\n",
        "    'InvoiceNo': 'nunique',\n",
        "    'TotalPrice': 'sum'\n",
        "}).reset_index()\n",
        "rfm.columns = ['CustomerID', 'Recency', 'Frequency', 'Monetary']"
      ],
      "metadata": {
        "id": "qiwLAxGKTEO8"
      },
      "execution_count": 12,
      "outputs": []
    },
    {
      "cell_type": "code",
      "source": [
        "# =============================\n",
        "# Step 4: Clustering Evaluation\n",
        "# =============================\n",
        "\n",
        "scaler = StandardScaler()\n",
        "rfm_scaled = scaler.fit_transform(rfm[['Recency', 'Frequency', 'Monetary']])\n",
        "\n",
        "# Elbow method\n",
        "inertia = []\n",
        "sil_scores = []\n",
        "for k in range(2, 10):\n",
        "    model = KMeans(n_clusters=k, random_state=42)\n",
        "    model.fit(rfm_scaled)\n",
        "    inertia.append(model.inertia_)\n",
        "    sil_scores.append(silhouette_score(rfm_scaled, model.labels_))"
      ],
      "metadata": {
        "id": "wlLy6sU7UvL_"
      },
      "execution_count": 13,
      "outputs": []
    },
    {
      "cell_type": "code",
      "source": [
        "# Plot Elbow Curve\n",
        "plt.figure(figsize=(6, 4))\n",
        "plt.plot(range(2, 10), inertia, marker='o')\n",
        "plt.title('Elbow Method')\n",
        "plt.xlabel('K')\n",
        "plt.ylabel('Inertia')\n",
        "plt.tight_layout()\n",
        "plt.savefig(\"/content/data/charts/elbow_curve.png\")\n",
        "plt.close()\n",
        "\n",
        "# Plot Silhouette Score\n",
        "plt.figure(figsize=(6, 4))\n",
        "plt.plot(range(2, 10), sil_scores, marker='s', color='green')\n",
        "plt.title('Silhouette Scores')\n",
        "plt.xlabel('K')\n",
        "plt.ylabel('Score')\n",
        "plt.tight_layout()\n",
        "plt.savefig(\"/content/data/charts/silhouette_score.png\")\n",
        "plt.close()"
      ],
      "metadata": {
        "id": "wYUvJb_DUzOv"
      },
      "execution_count": 17,
      "outputs": []
    },
    {
      "cell_type": "code",
      "source": [
        "# Best model (based on elbow/silhouette visually decided as 4)\n",
        "kmeans = KMeans(n_clusters=4, random_state=42)\n",
        "rfm['Cluster'] = kmeans.fit_predict(rfm_scaled)\n",
        "\n",
        "# Cluster interpretation\n",
        "cluster_summary = rfm.groupby('Cluster')[['Recency', 'Frequency', 'Monetary']].mean()\n",
        "print(\"\\nCluster Summary:\\n\", cluster_summary)\n",
        "\n",
        "# Save models for Streamlit\n",
        "os.makedirs(\"app/model\", exist_ok=True)\n",
        "pickle.dump(kmeans, open(\"/content/data/model/kmeans_model.pkl\", \"wb\"))\n",
        "pickle.dump(scaler, open(\"/content/data/model/scaler.pkl\", \"wb\"))"
      ],
      "metadata": {
        "colab": {
          "base_uri": "https://localhost:8080/"
        },
        "id": "jWh-0tWFVZ_y",
        "outputId": "aec6d11a-e65c-45a0-d457-1ad189ed29a5"
      },
      "execution_count": 18,
      "outputs": [
        {
          "output_type": "stream",
          "name": "stdout",
          "text": [
            "\n",
            "Cluster Summary:\n",
            "             Recency  Frequency       Monetary\n",
            "Cluster                                      \n",
            "0         43.702685   3.682711    1359.049284\n",
            "1        248.075914   1.552015     480.617480\n",
            "2          7.384615  82.538462  127338.313846\n",
            "3         15.500000  22.333333   12709.090490\n"
          ]
        }
      ]
    },
    {
      "cell_type": "code",
      "source": [
        "# =============================\n",
        "# Step 5: Product Similarity Matrix\n",
        "# =============================\n",
        "from sklearn.metrics.pairwise import cosine_similarity\n",
        "\n",
        "pivot = clean_df.pivot_table(index='CustomerID', columns='StockCode', values='Quantity', aggfunc='sum', fill_value=0)\n",
        "sim_matrix = cosine_similarity(pivot.T)\n",
        "sim_df = pd.DataFrame(sim_matrix, index=pivot.columns, columns=pivot.columns)\n",
        "sim_df.to_csv(\"data/similarity_matrix.csv\")"
      ],
      "metadata": {
        "id": "j2bWkzDfVxr9"
      },
      "execution_count": 20,
      "outputs": []
    },
    {
      "cell_type": "code",
      "source": [
        "# =============================\n",
        "# Step 6: Save RFM & Clustered Data\n",
        "# =============================\n",
        "\n",
        "rfm.to_csv(\"data/rfm_with_clusters.csv\", index=False)\n",
        "\n",
        "print(\"\\n✅ Analysis Complete. All outputs and models saved.\")"
      ],
      "metadata": {
        "colab": {
          "base_uri": "https://localhost:8080/"
        },
        "id": "LIqP4S_4WTJ0",
        "outputId": "d7bad27e-1827-41e0-9364-362d6743322f"
      },
      "execution_count": 21,
      "outputs": [
        {
          "output_type": "stream",
          "name": "stdout",
          "text": [
            "\n",
            "✅ Analysis Complete. All outputs and models saved.\n"
          ]
        }
      ]
    }
  ]
}